{
 "cells": [
  {
   "cell_type": "code",
   "execution_count": 123,
   "id": "43367edf",
   "metadata": {},
   "outputs": [],
   "source": [
    "import os\n",
    "import pandas as pd\n",
    "import numpy as np\n",
    "import pyodbc  as py\n",
    "import pptx as px\n",
    "from pptx.util import Cm as c, Pt as p\n",
    "from pptx.chart.data import ChartData as cd\n",
    "from pptx.dml.color import RGBColor as rg\n",
    "from pptx.enum.chart import XL_CHART_TYPE as xl\n",
    "import warnings\n",
    "warnings.filterwarnings('ignore')\n",
    "conn_str = (\n",
    "    r'DRIVER={SQL Server};'\n",
    "    r'SERVER=UG-BLR-L262;'\n",
    "    r'database =AdventureWorksDW2008R2;'\n",
    "    r'username=ETLdemo;'\n",
    "    r'password=Devraj@@1;'\n",
    "    r'Trusted_Connection=yes;'\n",
    ")\n",
    "cnxn = py.connect(conn_str)\n",
    "sql =\"\"\"Select * from ETLtest.dbo.Fruits\"\"\"\n",
    "df = pd.read_sql(sql, cnxn)\n",
    "df.head()\n",
    "conn_str = (\n",
    "    r'DRIVER={SQL Server};'\n",
    "    r'SERVER=UG-BLR-L262;'\n",
    "    r'database =AdventureWorksDW2008R2;'\n",
    "    r'username=ETLdemo;'\n",
    "    r'password=Devraj@@1;'\n",
    "    r'Trusted_Connection=yes;'\n",
    ")\n",
    "cnxn = py.connect(conn_str)\n",
    "sql =\"\"\"Select * from ETLtest.dbo.Fruits\"\"\"\n",
    "df = pd.read_sql(sql, cnxn)\n",
    "df.head()\n",
    "df.set_index(\"name\", inplace= True)\n",
    "df.head()\n",
    "pres = pptx.Presentation()\n",
    "slide = pres.slides.add_slide(pres.slide_layouts[5])\n",
    "#edit the placeholder\n",
    "title_ph = slide.placeholders[0]\n",
    "tf_title_ph = title_ph.text_frame\n",
    "run_p_0 = tf_title_ph.paragraphs[0]\n",
    "run_p_0 = p_0.add_run()\n",
    "run_p_0.text =\"Data from local machine\"\n",
    "run_p_1 = tf_title_ph.\n",
    "font_p_0 = run_p_0.font\n",
    "font_p_0.size = p(60)\n",
    "font_p_0.color.rgb = rg(255,0,0)\n",
    "fruits = list(df.index)\n",
    "data_bar_chart = cd()\n",
    "data_bar_chart.categories = fruits\n",
    "tuple_qty = tuple(df[\"Qunatity\"].values)\n",
    "data_bar_chart.add_series = (\"Quantities\",tuple_qty)\n",
    "shape_bar_chart = slide.shapes.add_chart( xl.BAR_STACKED,\n",
    "                                         c(2),\n",
    "                                         c(5),\n",
    "                                         c(21),\n",
    "                                         c(12),\n",
    "                                         data_bar_chart)\n",
    "pres.save(\"test_pres.pptx\")"
   ]
  },
  {
   "cell_type": "code",
   "execution_count": 124,
   "id": "746bad66",
   "metadata": {},
   "outputs": [],
   "source": []
  },
  {
   "cell_type": "code",
   "execution_count": null,
   "id": "93b9fc4a",
   "metadata": {},
   "outputs": [
    {
     "data": {
      "text/html": [
       "<div>\n",
       "<style scoped>\n",
       "    .dataframe tbody tr th:only-of-type {\n",
       "        vertical-align: middle;\n",
       "    }\n",
       "\n",
       "    .dataframe tbody tr th {\n",
       "        vertical-align: top;\n",
       "    }\n",
       "\n",
       "    .dataframe thead th {\n",
       "        text-align: right;\n",
       "    }\n",
       "</style>\n",
       "<table border=\"1\" class=\"dataframe\">\n",
       "  <thead>\n",
       "    <tr style=\"text-align: right;\">\n",
       "      <th></th>\n",
       "      <th>name</th>\n",
       "      <th>Qunatity</th>\n",
       "    </tr>\n",
       "  </thead>\n",
       "  <tbody>\n",
       "    <tr>\n",
       "      <th>0</th>\n",
       "      <td>Apple</td>\n",
       "      <td>10</td>\n",
       "    </tr>\n",
       "    <tr>\n",
       "      <th>1</th>\n",
       "      <td>Oranges</td>\n",
       "      <td>4</td>\n",
       "    </tr>\n",
       "    <tr>\n",
       "      <th>2</th>\n",
       "      <td>Bananas</td>\n",
       "      <td>12</td>\n",
       "    </tr>\n",
       "    <tr>\n",
       "      <th>3</th>\n",
       "      <td>Guava</td>\n",
       "      <td>8</td>\n",
       "    </tr>\n",
       "  </tbody>\n",
       "</table>\n",
       "</div>"
      ],
      "text/plain": [
       "      name  Qunatity\n",
       "0    Apple        10\n",
       "1  Oranges         4\n",
       "2  Bananas        12\n",
       "3    Guava         8"
      ]
     },
     "execution_count": 135,
     "metadata": {},
     "output_type": "execute_result"
    }
   ],
   "source": []
  },
  {
   "cell_type": "code",
   "execution_count": 127,
   "id": "18f26cc1",
   "metadata": {},
   "outputs": [],
   "source": []
  },
  {
   "cell_type": "code",
   "execution_count": 128,
   "id": "7b7385d6-2f2a-42e7-8c02-40f5d8318487",
   "metadata": {},
   "outputs": [],
   "source": []
  },
  {
   "cell_type": "code",
   "execution_count": 129,
   "id": "e1f58b64-d979-45d5-ae0a-95b831ee2e79",
   "metadata": {},
   "outputs": [],
   "source": []
  },
  {
   "cell_type": "code",
   "execution_count": 130,
   "id": "606cf548-ccde-4f2e-b673-c3e2a6e13528",
   "metadata": {},
   "outputs": [],
   "source": [
    "\n"
   ]
  },
  {
   "cell_type": "code",
   "execution_count": 131,
   "id": "ffbab1fb-af54-472a-b78d-1661b463366b",
   "metadata": {},
   "outputs": [],
   "source": [
    "\n"
   ]
  },
  {
   "cell_type": "code",
   "execution_count": 132,
   "id": "32a54dd9-7c26-494e-9211-bfc338d2a3b5",
   "metadata": {},
   "outputs": [],
   "source": []
  },
  {
   "cell_type": "code",
   "execution_count": null,
   "id": "2d45ee32-6637-48f1-9d49-b27fa149f6b8",
   "metadata": {},
   "outputs": [],
   "source": []
  }
 ],
 "metadata": {
  "kernelspec": {
   "display_name": "Python 3 (ipykernel)",
   "language": "python",
   "name": "python3"
  },
  "language_info": {
   "codemirror_mode": {
    "name": "ipython",
    "version": 3
   },
   "file_extension": ".py",
   "mimetype": "text/x-python",
   "name": "python",
   "nbconvert_exporter": "python",
   "pygments_lexer": "ipython3",
   "version": "3.9.12"
  }
 },
 "nbformat": 4,
 "nbformat_minor": 5
}
